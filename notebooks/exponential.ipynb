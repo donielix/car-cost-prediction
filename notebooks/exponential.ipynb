{
 "cells": [
  {
   "cell_type": "code",
   "execution_count": 1,
   "metadata": {},
   "outputs": [],
   "source": [
    "from src.models.exponential.train import ExponentialModel\n",
    "import pandas as pd\n",
    "from pathlib import Path\n",
    "import numpy as np\n",
    "from typing import Tuple, List\n",
    "from sklearn.base import TransformerMixin\n",
    "from sklearn.pipeline import Pipeline\n",
    "import matplotlib.pyplot as plt\n",
    "import mlflow\n",
    "import mlflow.sklearn\n",
    "from sklearn.metrics import mean_squared_error, mean_absolute_error, r2_score\n"
   ]
  },
  {
   "cell_type": "code",
   "execution_count": 2,
   "metadata": {},
   "outputs": [],
   "source": [
    "mlflow.set_tracking_uri(\"http://localhost:5000\")\n"
   ]
  },
  {
   "cell_type": "code",
   "execution_count": 3,
   "metadata": {},
   "outputs": [],
   "source": [
    "def eval_metrics(actual, pred):\n",
    "    rmse = np.sqrt(mean_squared_error(actual, pred))\n",
    "    mae = mean_absolute_error(actual, pred)\n",
    "    r2 = r2_score(actual, pred)\n",
    "    return rmse, mae, r2\n",
    "\n",
    "\n",
    "def get_train_test(\n",
    "    train_name: str, test_name: str\n",
    ") -> Tuple[pd.DataFrame, pd.DataFrame]:\n",
    "    data_folder = Path().resolve().parent / \"data\"\n",
    "    train = pd.read_parquet(path=data_folder / train_name)\n",
    "    test = pd.read_parquet(path=data_folder / test_name)\n",
    "    return train, test"
   ]
  },
  {
   "cell_type": "code",
   "execution_count": 4,
   "metadata": {},
   "outputs": [],
   "source": [
    "class ColumnDropperTransformer(TransformerMixin):\n",
    "    def __init__(self, columns: List[str]):\n",
    "        self.columns = columns\n",
    "\n",
    "    def transform(self, X: pd.DataFrame, y=None):\n",
    "        return X.drop(columns=self.columns, errors=\"ignore\")\n",
    "\n",
    "    def fit(self, X: pd.DataFrame, y=None):\n",
    "        return self\n"
   ]
  },
  {
   "cell_type": "code",
   "execution_count": 5,
   "metadata": {},
   "outputs": [],
   "source": [
    "def get_variables(df: pd.DataFrame, target: str) -> Tuple[pd.DataFrame, pd.Series]:\n",
    "    X = df.drop(columns=target)\n",
    "    y = df[target]\n",
    "    return X, y\n"
   ]
  },
  {
   "cell_type": "code",
   "execution_count": 6,
   "metadata": {},
   "outputs": [],
   "source": [
    "def plot_predictions(X_test: pd.DataFrame, y_test: pd.Series, model: Pipeline):\n",
    "    plt.figure(figsize=(10, 8))\n",
    "    plt.scatter(x=X_test.distancia, y=y_test, marker=\".\", label=\"data\", alpha=0.3)\n",
    "    plt.scatter(\n",
    "        x=X_test.distancia,\n",
    "        y=model.predict(X_test),\n",
    "        marker=\".\",\n",
    "        label=\"model\",\n",
    "        alpha=0.3,\n",
    "    )\n",
    "    plt.legend()\n",
    "    plt.show()"
   ]
  },
  {
   "cell_type": "code",
   "execution_count": 7,
   "metadata": {},
   "outputs": [],
   "source": [
    "train, test = get_train_test(train_name=\"train.parquet\", test_name=\"test.parquet\")\n"
   ]
  },
  {
   "cell_type": "code",
   "execution_count": 8,
   "metadata": {},
   "outputs": [],
   "source": [
    "rnd = np.random.RandomState(42)"
   ]
  },
  {
   "cell_type": "code",
   "execution_count": 9,
   "metadata": {},
   "outputs": [],
   "source": [
    "X_train, y_train = get_variables(df=train, target=\"coste\")\n",
    "X_test, y_test = get_variables(df=test, target=\"coste\")\n"
   ]
  },
  {
   "cell_type": "code",
   "execution_count": 10,
   "metadata": {},
   "outputs": [
    {
     "name": "stderr",
     "output_type": "stream",
     "text": [
      "/home/dadiego/projects/car-consumption-prediction/src/citroen/models/exponential.py:18: RuntimeWarning: overflow encountered in exp\n",
      "  consumption = w0 + w1 * np.exp(-w2 * distance + w3)\n",
      "2023/05/19 00:54:22 WARNING mlflow.utils.requirements_utils: The following packages were not found in the public PyPI package index as of 2023-04-18; if these packages are not present in the public PyPI index, you must install them manually before loading your model: {'citroen-model'}\n",
      "/home/dadiego/projects/car-consumption-prediction/venv/lib/python3.10/site-packages/_distutils_hack/__init__.py:33: UserWarning: Setuptools is replacing distutils.\n",
      "  warnings.warn(\"Setuptools is replacing distutils.\")\n"
     ]
    }
   ],
   "source": [
    "with mlflow.start_run():\n",
    "    dropper = ColumnDropperTransformer(columns=[\"consumo_medio\", \"coste\"])\n",
    "    model = ExponentialModel(initial_params=rnd.uniform(-1, 1, size=4))\n",
    "    pipe = Pipeline(steps=[(\"dropper\", dropper), (\"model\", model)])\n",
    "    pipe.fit(X_train, y_train)\n",
    "    y_pred = pipe.predict(X_test)\n",
    "    rmse, mae, r2 = eval_metrics(actual=y_test, pred=y_pred)\n",
    "    mlflow.log_param(\"initial_params\", model.initial_params)\n",
    "    mlflow.log_metric(\"rmse\", rmse)\n",
    "    mlflow.log_metric(\"r2\", r2)\n",
    "    mlflow.log_metric(\"mae\", mae)\n",
    "\n",
    "    mlflow.sklearn.log_model(pipe, \"exponential-pipeline\")"
   ]
  },
  {
   "cell_type": "code",
   "execution_count": null,
   "metadata": {},
   "outputs": [],
   "source": []
  }
 ],
 "metadata": {
  "kernelspec": {
   "display_name": "venv",
   "language": "python",
   "name": "python3"
  },
  "language_info": {
   "codemirror_mode": {
    "name": "ipython",
    "version": 3
   },
   "file_extension": ".py",
   "mimetype": "text/x-python",
   "name": "python",
   "nbconvert_exporter": "python",
   "pygments_lexer": "ipython3",
   "version": "3.10.6"
  },
  "orig_nbformat": 4
 },
 "nbformat": 4,
 "nbformat_minor": 2
}
